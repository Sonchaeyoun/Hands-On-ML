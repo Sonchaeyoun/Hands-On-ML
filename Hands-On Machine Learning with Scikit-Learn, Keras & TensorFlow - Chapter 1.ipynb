{
 "cells": [
  {
   "cell_type": "markdown",
   "metadata": {},
   "source": [
    "### 1.7 연습문제"
   ]
  },
  {
   "cell_type": "markdown",
   "metadata": {},
   "source": [
    "#### 1. 머신러닝을 어떻게 정의할 수 있나요?\n",
    "머신러닝이란 데이터로부터 학습할 수 있는 시스템을 구축하는 것을 말한다. 학습이란 어떤 작업에서 주어진 성능 지표가 더 나아지는 것을 의미한다."
   ]
  },
  {
   "cell_type": "markdown",
   "metadata": {},
   "source": [
    "#### 2. 머신러닝이 도움을 줄 수 있는 문제 유형 네 가지를 말해보세요.\n",
    "명확한 해결책이 없는 복잡한 문제, 수작업으로 만든 긴 규칙 리스트를 대체하는 경우, 변화하는 환경에 적응하는 시스템을 만드는 경우, 사람에게 통찰을 제공해야 하는 경우(예를 들면 데이터 마이닝)에 머신러닝이 도움을 줄 수 있다."
   ]
  },
  {
   "cell_type": "markdown",
   "metadata": {},
   "source": [
    "#### 3. 레이블된 훈련 세트란 무엇인가요?\n",
    "각 샘플에 대해 원하는 정답(레이블)을 담고 있는 훈련 세트"
   ]
  },
  {
   "cell_type": "markdown",
   "metadata": {},
   "source": [
    "#### 4. 가장 널리 사용되는 지도 학습 작업 두 가지는 무엇인가요?\n",
    "회귀와 분류"
   ]
  },
  {
   "cell_type": "markdown",
   "metadata": {},
   "source": [
    "#### 5. 보편적인 비지도 학습 작업 네 가지는 무엇인가요?\n",
    "군집, 시각화, 차원 축소, 연관 규칙 학습"
   ]
  },
  {
   "cell_type": "markdown",
   "metadata": {},
   "source": [
    "#### 6. 사전 정보가 없는 여러 지형에서 로봇을 걸어가게 하려면 어떤 종류의 머신러닝 알고리즘을 사용할 수 있나요?\n",
    "강화 학습"
   ]
  },
  {
   "cell_type": "markdown",
   "metadata": {},
   "source": [
    "#### 7. 고객을 여러 그룹으로 분할하려면 어떤 알고리즘을 사용해야 하나요?\n",
    "- 그룹을 어떻게 정의할지 모르는 경우 : 군집 알고리즘 사용(비지도 학습)\n",
    "- 어떤 그룹이 있어야 할지 아는 경우 : 분류 알고리즘 사용(지도 학습)"
   ]
  },
  {
   "cell_type": "markdown",
   "metadata": {},
   "source": [
    "#### 8. 스팸 감지의 문제는 지도 학습과 비지도 학습 중 어떤 문제로 볼 수 있나요?\n",
    "지도 학습"
   ]
  },
  {
   "cell_type": "markdown",
   "metadata": {},
   "source": [
    "#### 9. 온라인 학습 시스템이 무엇인가요?\n",
    "데이터를 순차적으로 한 개씩 또는 미니배치(mini-batch)라 부르는 작은 묶음 단위로 주입하여 시스템을 훈련시키는 것. 학습 단계가 빠르고 비용이 적게 든다.(데이터가 도착하는 대로 즉시 학습할 수 있음.)"
   ]
  },
  {
   "cell_type": "markdown",
   "metadata": {},
   "source": [
    "#### 10. 외부 메모리 학습이 무엇인가요?\n",
    "컴퓨터의 주메모리에 들어갈 수 없는 대용량의 데이터를 다룰 수 있는 것. 데이터를 미니배치로 나누고 온라인 학습 기법을 사용해 학습한다."
   ]
  },
  {
   "cell_type": "markdown",
   "metadata": {},
   "source": [
    "#### 11. 예측을 하기 위해 유사도 측정에 의존하는 학습 알고리즘은 무엇인가요?\n",
    "사례 기반 학습 시스템은 훈련 데이터를 기억하는 학습이다. 새로운 샘플이 주어지면 유사도 측정을 사용해 학습된 샘플 중에서 가장 비슷한 것을 찾아 예측으로 사용한다."
   ]
  },
  {
   "cell_type": "markdown",
   "metadata": {},
   "source": [
    "#### 12. 모델 파라미터와 학습 알고리즘의 하이퍼파라미터 사이에는 어떤 차이가 있나요?\n",
    "모델은 하나 이상의 파라미터를 사용해 새로운 샘플이 주어지면 무엇을 예측할지 결정한다. 학습은 모델이 새로운 샘플에 잘 일반화되도록 이런 파라미터들의 최적값을 찾는다. "
   ]
  },
  {
   "cell_type": "markdown",
   "metadata": {},
   "source": [
    "#### 13. 모델 기반 알고리즘이 찾는 것은 무엇인가요? 성공을 위해 이 알고리즘이 사용하는 가장 일반적인 전략은 무엇인가요? 예측은 어떻게 만드나요?"
   ]
  },
  {
   "cell_type": "code",
   "execution_count": null,
   "metadata": {},
   "outputs": [],
   "source": []
  }
 ],
 "metadata": {
  "kernelspec": {
   "display_name": "Python 3",
   "language": "python",
   "name": "python3"
  },
  "language_info": {
   "codemirror_mode": {
    "name": "ipython",
    "version": 3
   },
   "file_extension": ".py",
   "mimetype": "text/x-python",
   "name": "python",
   "nbconvert_exporter": "python",
   "pygments_lexer": "ipython3",
   "version": "3.7.6"
  }
 },
 "nbformat": 4,
 "nbformat_minor": 4
}
